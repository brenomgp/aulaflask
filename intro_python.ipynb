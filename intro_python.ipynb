{
  "nbformat": 4,
  "nbformat_minor": 0,
  "metadata": {
    "colab": {
      "provenance": [],
      "authorship_tag": "ABX9TyOh5OCAhb+SuNyxOOVb3C7g",
      "include_colab_link": true
    },
    "kernelspec": {
      "name": "python3",
      "display_name": "Python 3"
    },
    "language_info": {
      "name": "python"
    }
  },
  "cells": [
    {
      "cell_type": "markdown",
      "metadata": {
        "id": "view-in-github",
        "colab_type": "text"
      },
      "source": [
        "<a href=\"https://colab.research.google.com/github/brenomgp/aulaflask/blob/main/intro_python.ipynb\" target=\"_parent\"><img src=\"https://colab.research.google.com/assets/colab-badge.svg\" alt=\"Open In Colab\"/></a>"
      ]
    },
    {
      "cell_type": "code",
      "source": [
        "idade = 19\n",
        "print(idade)"
      ],
      "metadata": {
        "colab": {
          "base_uri": "https://localhost:8080/"
        },
        "outputId": "b16fc29e-8cfb-4fea-de06-95457e8aa441",
        "id": "tPGA9DCgXcGD"
      },
      "execution_count": null,
      "outputs": [
        {
          "output_type": "stream",
          "name": "stdout",
          "text": [
            "19\n"
          ]
        }
      ]
    },
    {
      "cell_type": "code",
      "execution_count": 1,
      "metadata": {
        "colab": {
          "base_uri": "https://localhost:8080/"
        },
        "id": "KFRODBt1K1Sb",
        "outputId": "4dce58cc-1ccd-400b-ddd8-1a67c1b9dc2e"
      },
      "outputs": [
        {
          "output_type": "stream",
          "name": "stdout",
          "text": [
            "Vai Brasil\n"
          ]
        }
      ],
      "source": [
        "print(\"Vai Brasil\")"
      ]
    },
    {
      "cell_type": "code",
      "source": [
        "nome = 'Breno'\n",
        "sobre_nome = 'Paiva'\n",
        "print(nome + sobre_nome)"
      ],
      "metadata": {
        "colab": {
          "base_uri": "https://localhost:8080/"
        },
        "id": "i6FMGL5yWvRU",
        "outputId": "575e4d1c-03c4-4212-f740-b9e5f03da068"
      },
      "execution_count": 2,
      "outputs": [
        {
          "output_type": "stream",
          "name": "stdout",
          "text": [
            "BrenoPaiva\n"
          ]
        }
      ]
    },
    {
      "cell_type": "code",
      "source": [
        "nome = 'Breno'\n",
        "sobre_nome = 'Paiva'\n",
        "print(nome + ' ' + sobre_nome)"
      ],
      "metadata": {
        "colab": {
          "base_uri": "https://localhost:8080/"
        },
        "outputId": "6b832a16-d00a-4f0f-a58d-dc28ac07e286",
        "id": "sIopQ5LCXDZD"
      },
      "execution_count": 3,
      "outputs": [
        {
          "output_type": "stream",
          "name": "stdout",
          "text": [
            "Breno Paiva\n"
          ]
        }
      ]
    },
    {
      "cell_type": "code",
      "source": [
        "idade = 19\n",
        "print(type(idade))"
      ],
      "metadata": {
        "colab": {
          "base_uri": "https://localhost:8080/"
        },
        "id": "XhcW5Hd2XMca",
        "outputId": "9fe1235c-ffbe-4a14-e482-ffaeda94c5ef"
      },
      "execution_count": 5,
      "outputs": [
        {
          "output_type": "stream",
          "name": "stdout",
          "text": [
            "<class 'int'>\n"
          ]
        }
      ]
    },
    {
      "cell_type": "code",
      "source": [
        "_idade = 19\n",
        "__idade = '19'\n",
        "___idade = 19.0\n",
        "print(type(_idade))\n",
        "print(type(__idade))\n",
        "print(type(___idade))"
      ],
      "metadata": {
        "colab": {
          "base_uri": "https://localhost:8080/"
        },
        "outputId": "e401c120-74d1-4b22-bb7a-6a9359239638",
        "id": "JZ3uMc30XoRD"
      },
      "execution_count": 6,
      "outputs": [
        {
          "output_type": "stream",
          "name": "stdout",
          "text": [
            "<class 'int'>\n",
            "<class 'str'>\n",
            "<class 'float'>\n"
          ]
        }
      ]
    },
    {
      "cell_type": "code",
      "source": [
        "#tipos de dado padrão do Python\n",
        "int(inteiro)\n",
        "float(ponto flutuante ou decimal)\n",
        "complex(complexo)\n",
        "str(string)\n",
        "bool(boolean)\n",
        "list(listas)\n",
        "tuple(tuplas)\n",
        "dic(dictionary)"
      ],
      "metadata": {
        "id": "sYd8KGU7YSTj"
      },
      "execution_count": null,
      "outputs": []
    }
  ]
}