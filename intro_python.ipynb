{
  "nbformat": 4,
  "nbformat_minor": 0,
  "metadata": {
    "colab": {
      "provenance": [],
      "authorship_tag": "ABX9TyP23L+QAL2hSjZh996KnUbB",
      "include_colab_link": true
    },
    "kernelspec": {
      "name": "python3",
      "display_name": "Python 3"
    },
    "language_info": {
      "name": "python"
    }
  },
  "cells": [
    {
      "cell_type": "markdown",
      "metadata": {
        "id": "view-in-github",
        "colab_type": "text"
      },
      "source": [
        "<a href=\"https://colab.research.google.com/github/brenomgp/aulaflask/blob/main/intro_python.ipynb\" target=\"_parent\"><img src=\"https://colab.research.google.com/assets/colab-badge.svg\" alt=\"Open In Colab\"/></a>"
      ]
    },
    {
      "cell_type": "code",
      "source": [
        "idade = 19\n",
        "print(idade)"
      ],
      "metadata": {
        "colab": {
          "base_uri": "https://localhost:8080/"
        },
        "outputId": "b16fc29e-8cfb-4fea-de06-95457e8aa441",
        "id": "tPGA9DCgXcGD"
      },
      "execution_count": null,
      "outputs": [
        {
          "output_type": "stream",
          "name": "stdout",
          "text": [
            "19\n"
          ]
        }
      ]
    },
    {
      "cell_type": "code",
      "execution_count": 1,
      "metadata": {
        "colab": {
          "base_uri": "https://localhost:8080/"
        },
        "id": "KFRODBt1K1Sb",
        "outputId": "4dce58cc-1ccd-400b-ddd8-1a67c1b9dc2e"
      },
      "outputs": [
        {
          "output_type": "stream",
          "name": "stdout",
          "text": [
            "Vai Brasil\n"
          ]
        }
      ],
      "source": [
        "print(\"Vai Brasil\")"
      ]
    },
    {
      "cell_type": "code",
      "source": [
        "nome = 'Breno'\n",
        "sobre_nome = 'Paiva'\n",
        "print(nome + sobre_nome)"
      ],
      "metadata": {
        "colab": {
          "base_uri": "https://localhost:8080/"
        },
        "id": "i6FMGL5yWvRU",
        "outputId": "575e4d1c-03c4-4212-f740-b9e5f03da068"
      },
      "execution_count": 2,
      "outputs": [
        {
          "output_type": "stream",
          "name": "stdout",
          "text": [
            "BrenoPaiva\n"
          ]
        }
      ]
    },
    {
      "cell_type": "code",
      "source": [
        "nome = 'Breno'\n",
        "sobre_nome = 'Paiva'\n",
        "print(nome + ' ' + sobre_nome)"
      ],
      "metadata": {
        "colab": {
          "base_uri": "https://localhost:8080/"
        },
        "outputId": "6b832a16-d00a-4f0f-a58d-dc28ac07e286",
        "id": "sIopQ5LCXDZD"
      },
      "execution_count": 3,
      "outputs": [
        {
          "output_type": "stream",
          "name": "stdout",
          "text": [
            "Breno Paiva\n"
          ]
        }
      ]
    },
    {
      "cell_type": "code",
      "source": [
        "idade = 19\n",
        "print(type(idade))"
      ],
      "metadata": {
        "colab": {
          "base_uri": "https://localhost:8080/"
        },
        "id": "XhcW5Hd2XMca",
        "outputId": "9fe1235c-ffbe-4a14-e482-ffaeda94c5ef"
      },
      "execution_count": 5,
      "outputs": [
        {
          "output_type": "stream",
          "name": "stdout",
          "text": [
            "<class 'int'>\n"
          ]
        }
      ]
    },
    {
      "cell_type": "code",
      "source": [
        "_idade = 19\n",
        "__idade = '19'\n",
        "___idade = 19.0\n",
        "print(type(_idade))\n",
        "print(type(__idade))\n",
        "print(type(___idade))"
      ],
      "metadata": {
        "colab": {
          "base_uri": "https://localhost:8080/"
        },
        "outputId": "e401c120-74d1-4b22-bb7a-6a9359239638",
        "id": "JZ3uMc30XoRD"
      },
      "execution_count": 6,
      "outputs": [
        {
          "output_type": "stream",
          "name": "stdout",
          "text": [
            "<class 'int'>\n",
            "<class 'str'>\n",
            "<class 'float'>\n"
          ]
        }
      ]
    },
    {
      "cell_type": "code",
      "source": [
        "#tipos de dado padrão do Python\n",
        "int(inteiro)\n",
        "float(ponto flutuante ou decimal)\n",
        "complex(complexo)\n",
        "str(string)\n",
        "bool(boolean)\n",
        "list(listas)\n",
        "tuple(tuplas)\n",
        "dic(dictionary)"
      ],
      "metadata": {
        "id": "sYd8KGU7YSTj"
      },
      "execution_count": null,
      "outputs": []
    },
    {
      "cell_type": "code",
      "source": [
        "valores = (10, 11)\n",
        "print(type(valores))"
      ],
      "metadata": {
        "colab": {
          "base_uri": "https://localhost:8080/"
        },
        "id": "m88zZl58aTma",
        "outputId": "60ff6155-e209-40be-a6c4-5048fc3e9600"
      },
      "execution_count": 7,
      "outputs": [
        {
          "output_type": "stream",
          "name": "stdout",
          "text": [
            "<class 'tuple'>\n"
          ]
        }
      ]
    },
    {
      "cell_type": "code",
      "source": [
        "altura = ('Breno' : 1,76)\n",
        "peso = ('Breno' : 60)\n",
        "\n",
        "print(type(altura))\n",
        "print(type(peso))"
      ],
      "metadata": {
        "colab": {
          "base_uri": "https://localhost:8080/",
          "height": 130
        },
        "id": "VZWwlo_Eao_b",
        "outputId": "d1fd7b72-0e43-4ac8-8caf-63814efc7633"
      },
      "execution_count": 19,
      "outputs": [
        {
          "output_type": "error",
          "ename": "SyntaxError",
          "evalue": "ignored",
          "traceback": [
            "\u001b[0;36m  File \u001b[0;32m\"<ipython-input-19-4de0a8c12603>\"\u001b[0;36m, line \u001b[0;32m1\u001b[0m\n\u001b[0;31m    altura = ('Breno' : 1,76)\u001b[0m\n\u001b[0m                      ^\u001b[0m\n\u001b[0;31mSyntaxError\u001b[0m\u001b[0;31m:\u001b[0m invalid syntax\n"
          ]
        }
      ]
    },
    {
      "cell_type": "code",
      "source": [
        "nome_input = str(input('Qual seu nome?'))\n",
        "print('Ola' + nome_input + '!')"
      ],
      "metadata": {
        "colab": {
          "base_uri": "https://localhost:8080/"
        },
        "id": "RrU0lpUzbXyj",
        "outputId": "deae57a5-0178-4a4c-a595-d47d51e7fff7"
      },
      "execution_count": 20,
      "outputs": [
        {
          "output_type": "stream",
          "name": "stdout",
          "text": [
            "Qual seu nome? Breno\n",
            "Ola Breno!\n"
          ]
        }
      ]
    },
    {
      "cell_type": "code",
      "source": [
        "var = [0, 1, 2, 3]\n",
        "var[0] = str(input('Qual seu nome?'))\n",
        "var[1] = str(input('Qual seu sobrenome?'))\n",
        "var[2] = float(input('Qual foi a nota da sua prova?'))\n",
        "var[3] = float(input('E do seu trabalho?'))\n",
        "print('O aluno () () tem como nota ()', format(var[0], var[1], var[2]+var[3])/2)"
      ],
      "metadata": {
        "colab": {
          "base_uri": "https://localhost:8080/",
          "height": 269
        },
        "id": "80E7A6TZcGXT",
        "outputId": "0ef2a260-7dcc-4f3c-f107-256032094053"
      },
      "execution_count": 16,
      "outputs": [
        {
          "name": "stdout",
          "output_type": "stream",
          "text": [
            "Qual seu nome? Breno\n",
            "Qual seu sobrenome? Paiva\n",
            "Qual foi a nota da sua prova?10\n",
            "E do seu trabalho?10\n"
          ]
        },
        {
          "output_type": "error",
          "ename": "TypeError",
          "evalue": "ignored",
          "traceback": [
            "\u001b[0;31m---------------------------------------------------------------------------\u001b[0m",
            "\u001b[0;31mTypeError\u001b[0m                                 Traceback (most recent call last)",
            "\u001b[0;32m<ipython-input-16-e63aac8fda4c>\u001b[0m in \u001b[0;36m<module>\u001b[0;34m\u001b[0m\n\u001b[1;32m      4\u001b[0m \u001b[0mvar\u001b[0m\u001b[0;34m[\u001b[0m\u001b[0;36m2\u001b[0m\u001b[0;34m]\u001b[0m \u001b[0;34m=\u001b[0m \u001b[0mfloat\u001b[0m\u001b[0;34m(\u001b[0m\u001b[0minput\u001b[0m\u001b[0;34m(\u001b[0m\u001b[0;34m'Qual foi a nota da sua prova?'\u001b[0m\u001b[0;34m)\u001b[0m\u001b[0;34m)\u001b[0m\u001b[0;34m\u001b[0m\u001b[0;34m\u001b[0m\u001b[0m\n\u001b[1;32m      5\u001b[0m \u001b[0mvar\u001b[0m\u001b[0;34m[\u001b[0m\u001b[0;36m3\u001b[0m\u001b[0;34m]\u001b[0m \u001b[0;34m=\u001b[0m \u001b[0mfloat\u001b[0m\u001b[0;34m(\u001b[0m\u001b[0minput\u001b[0m\u001b[0;34m(\u001b[0m\u001b[0;34m'E do seu trabalho?'\u001b[0m\u001b[0;34m)\u001b[0m\u001b[0;34m)\u001b[0m\u001b[0;34m\u001b[0m\u001b[0;34m\u001b[0m\u001b[0m\n\u001b[0;32m----> 6\u001b[0;31m \u001b[0mprint\u001b[0m\u001b[0;34m(\u001b[0m\u001b[0;34m'O aluno () () tem como nota ()'\u001b[0m\u001b[0;34m,\u001b[0m \u001b[0mformat\u001b[0m\u001b[0;34m(\u001b[0m\u001b[0mvar\u001b[0m\u001b[0;34m[\u001b[0m\u001b[0;36m0\u001b[0m\u001b[0;34m]\u001b[0m\u001b[0;34m,\u001b[0m \u001b[0mvar\u001b[0m\u001b[0;34m[\u001b[0m\u001b[0;36m1\u001b[0m\u001b[0;34m]\u001b[0m\u001b[0;34m,\u001b[0m \u001b[0mvar\u001b[0m\u001b[0;34m[\u001b[0m\u001b[0;36m2\u001b[0m\u001b[0;34m]\u001b[0m\u001b[0;34m+\u001b[0m\u001b[0mvar\u001b[0m\u001b[0;34m[\u001b[0m\u001b[0;36m3\u001b[0m\u001b[0;34m]\u001b[0m\u001b[0;34m)\u001b[0m\u001b[0;34m/\u001b[0m\u001b[0;36m2\u001b[0m\u001b[0;34m)\u001b[0m\u001b[0;34m\u001b[0m\u001b[0;34m\u001b[0m\u001b[0m\n\u001b[0m",
            "\u001b[0;31mTypeError\u001b[0m: format expected at most 2 arguments, got 3"
          ]
        }
      ]
    },
    {
      "cell_type": "code",
      "source": [
        "#operadores aritméticos\n",
        "# +(adição/sinal positivo)\n",
        "# -(subtração/sinal negativo)\n",
        "# *(multiplicação)\n",
        "# /(divisão)\n",
        "# //(divisão inteira)\n",
        "# %(módulo)\n",
        "# **(exponenciação)"
      ],
      "metadata": {
        "id": "PdMTanNrdpKc"
      },
      "execution_count": null,
      "outputs": []
    },
    {
      "cell_type": "code",
      "source": [
        "numero_1 = 2\n",
        "numero_2 = 4\n",
        "\n",
        "soma = numero_1 + numero_2\n",
        "\n",
        "if soma < 10:\n",
        "    print('soma não é maior que 10')\n",
        "else:\n",
        "    print('soma é maior ou igual a 10')"
      ],
      "metadata": {
        "colab": {
          "base_uri": "https://localhost:8080/"
        },
        "id": "VFY3TN0Biao1",
        "outputId": "0400534c-2d32-441c-aa5d-5fb01401f016"
      },
      "execution_count": 22,
      "outputs": [
        {
          "output_type": "stream",
          "name": "stdout",
          "text": [
            "soma não é maior que 10\n"
          ]
        }
      ]
    },
    {
      "cell_type": "code",
      "source": [
        "soma_1 = 7 + 8\n",
        "soma_2 = 10 + 5\n",
        "\n",
        "if soma_1 == soma_2:\n",
        "    print(resultados iguais)\n",
        "else:\n",
        "    print(resultados diferentes)"
      ],
      "metadata": {
        "colab": {
          "base_uri": "https://localhost:8080/",
          "height": 130
        },
        "id": "lAVKB_fai-o2",
        "outputId": "9d65fc86-05b4-43e5-be55-257566c7ac94"
      },
      "execution_count": 24,
      "outputs": [
        {
          "output_type": "error",
          "ename": "SyntaxError",
          "evalue": "ignored",
          "traceback": [
            "\u001b[0;36m  File \u001b[0;32m\"<ipython-input-24-ef7dbbafe817>\"\u001b[0;36m, line \u001b[0;32m5\u001b[0m\n\u001b[0;31m    print(resultados iguais)\u001b[0m\n\u001b[0m                     ^\u001b[0m\n\u001b[0;31mSyntaxError\u001b[0m\u001b[0;31m:\u001b[0m invalid syntax\n"
          ]
        }
      ]
    },
    {
      "cell_type": "code",
      "source": [
        "#Operadores lógicos\n",
        "# and(retorna true se todas as condições forem verdadeiras, caso contrário retorna false)\n",
        "# or(retorna true se uma das condições forem verdadeiras, caso contrário retorna false)\n",
        "# not(inverte o resultado; se o resultado da expressão for true, o operador retorna false)"
      ],
      "metadata": {
        "id": "aB41VxB0ji9W"
      },
      "execution_count": null,
      "outputs": []
    },
    {
      "cell_type": "code",
      "source": [
        "idade_lucas = 21\n",
        "idade_carol = 19\n",
        "\n",
        "#Operador OR\n",
        "if idade_lucas >= 18 or idade_carol >= 18:\n",
        "    print('pelo menos um dos dois é de maior')\n",
        "else:\n",
        "    print('lucas e carol são de menor')\n",
        "\n",
        "#Operador AND\n",
        "if idade_lucas >= 18 and idade_carol >= 18:\n",
        "    print('lucas e carol são de maior')  \n",
        "else:\n",
        "    print('pelo menos um dos dois não é de maior')"
      ],
      "metadata": {
        "colab": {
          "base_uri": "https://localhost:8080/"
        },
        "id": "GjvpYapTl_4X",
        "outputId": "234b4c8e-0468-4d9b-cdb9-68a07e91d227"
      },
      "execution_count": 25,
      "outputs": [
        {
          "output_type": "stream",
          "name": "stdout",
          "text": [
            "pelo menos um dos dois é de maior\n",
            "lucas e carol são de maior\n"
          ]
        }
      ]
    },
    {
      "cell_type": "code",
      "source": [],
      "metadata": {
        "id": "uTig_2xfnSJH"
      },
      "execution_count": null,
      "outputs": []
    },
    {
      "cell_type": "code",
      "source": [
        "#Operadores de Identidade"
      ],
      "metadata": {
        "id": "LsAJMdkEnTr4"
      },
      "execution_count": null,
      "outputs": []
    }
  ]
}