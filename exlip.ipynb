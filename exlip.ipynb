{
  "nbformat": 4,
  "nbformat_minor": 0,
  "metadata": {
    "colab": {
      "provenance": [],
      "authorship_tag": "ABX9TyPg8VSSmtQUT6WWdDh6QIfq",
      "include_colab_link": true
    },
    "kernelspec": {
      "name": "python3",
      "display_name": "Python 3"
    },
    "language_info": {
      "name": "python"
    }
  },
  "cells": [
    {
      "cell_type": "markdown",
      "metadata": {
        "id": "view-in-github",
        "colab_type": "text"
      },
      "source": [
        "<a href=\"https://colab.research.google.com/github/brenomgp/aulaflask/blob/main/exlip.ipynb\" target=\"_parent\"><img src=\"https://colab.research.google.com/assets/colab-badge.svg\" alt=\"Open In Colab\"/></a>"
      ]
    },
    {
      "cell_type": "code",
      "execution_count": 1,
      "metadata": {
        "colab": {
          "base_uri": "https://localhost:8080/"
        },
        "id": "AB-dO5skNw4U",
        "outputId": "94ed63c0-844a-4af1-d8d5-f4cc18739c16"
      },
      "outputs": [
        {
          "output_type": "stream",
          "name": "stdout",
          "text": [
            "Digite o primeiro número: 25\n",
            "Digite o segundo número: 43\n",
            "Digite o terceiro número: 76\n",
            "Pelo menos um dos números é maior que a soma dos outros dois!\n"
          ]
        }
      ],
      "source": [
        "num1 = float(input(\"Digite o primeiro número: \"))\n",
        "num2 = float(input(\"Digite o segundo número: \"))\n",
        "num3 = float(input(\"Digite o terceiro número: \"))\n",
        "\n",
        "if num1 > num2 + num3 or num2 > num1 + num3 or num3 > num1 + num2:\n",
        "    print(\"Pelo menos um dos números é maior que a soma dos outros dois!\")\n",
        "else:\n",
        "    print(\"Nenhum dos números é maior que a soma dos outros dois.\")"
      ]
    },
    {
      "cell_type": "code",
      "source": [
        "nota1 = float(input(\"Digite a primeira nota (entre 0 e 100): \"))\n",
        "nota2 = float(input(\"Digite a segunda nota (entre 0 e 100): \"))\n",
        "\n",
        "soma_notas = nota1 + nota2\n",
        "\n",
        "if soma_notas >= 60 and nota1 >= 40 and nota2 >= 40:\n",
        "    print(\"O aluno passou!\")\n",
        "else:\n",
        "    print(\"O aluno não passou.\")"
      ],
      "metadata": {
        "colab": {
          "base_uri": "https://localhost:8080/"
        },
        "id": "H9RCohIvOFm_",
        "outputId": "ce053682-b688-40c5-d0d6-8316a5a8f246"
      },
      "execution_count": 2,
      "outputs": [
        {
          "output_type": "stream",
          "name": "stdout",
          "text": [
            "Digite a primeira nota (entre 0 e 100): 78\n",
            "Digite a segunda nota (entre 0 e 100): 89\n",
            "O aluno passou!\n"
          ]
        }
      ]
    },
    {
      "cell_type": "code",
      "source": [
        "idade = int(input(\"Digite a idade da pessoa: \"))\n",
        "autorizacao_pais = input(\"A pessoa tem autorização dos pais? (sim/não): \")\n",
        "\n",
        "if idade >= 18 or autorizacao_pais == \"sim\":\n",
        "    print(\"A pessoa pode participar.\")\n",
        "else:\n",
        "    print(\"A pessoa não pode participar.\")"
      ],
      "metadata": {
        "colab": {
          "base_uri": "https://localhost:8080/"
        },
        "id": "QQ_adBl7OTSA",
        "outputId": "26ce7a06-deca-4c1d-cf45-a3809633a90a"
      },
      "execution_count": 3,
      "outputs": [
        {
          "output_type": "stream",
          "name": "stdout",
          "text": [
            "Digite a idade da pessoa: 67\n",
            "A pessoa tem autorização dos pais? (sim/não): sim\n",
            "A pessoa pode participar.\n"
          ]
        }
      ]
    },
    {
      "cell_type": "code",
      "source": [
        "numero = int(input(\"Digite um número inteiro: \"))\n",
        "\n",
        "if numero % 2 == 0:\n",
        "    print(\"O número é par.\")\n",
        "elif numero % 3 == 0:\n",
        "    print(\"O número é divisível por 3.\")\n",
        "else:\n",
        "    print(\"O número não é par e nem divisível por 3.\")"
      ],
      "metadata": {
        "colab": {
          "base_uri": "https://localhost:8080/"
        },
        "id": "cY3lKumBOcjY",
        "outputId": "443059c0-5590-4e50-bff1-094c827887f3"
      },
      "execution_count": 4,
      "outputs": [
        {
          "output_type": "stream",
          "name": "stdout",
          "text": [
            "Digite um número inteiro: 34\n",
            "O número é par.\n"
          ]
        }
      ]
    },
    {
      "cell_type": "code",
      "source": [
        "idade = int(input(\"Digite a idade da pessoa: \"))\n",
        "alfabetizada = input(\"A pessoa é alfabetizada? (sim/não): \")\n",
        "\n",
        "if idade > 25 and alfabetizada == \"sim\":\n",
        "    print(\"A pessoa é alfabetizada e tem mais de 25 anos.\")\n",
        "else:\n",
        "    print(\"A pessoa não atende aos critérios de alfabetização e idade.\")"
      ],
      "metadata": {
        "colab": {
          "base_uri": "https://localhost:8080/"
        },
        "id": "j1R16ugiOegI",
        "outputId": "866816a7-e229-4494-d754-95fcb57b1fb0"
      },
      "execution_count": 5,
      "outputs": [
        {
          "output_type": "stream",
          "name": "stdout",
          "text": [
            "Digite a idade da pessoa: 23\n",
            "A pessoa é alfabetizada? (sim/não): não\n",
            "A pessoa não atende aos critérios de alfabetização e idade.\n"
          ]
        }
      ]
    },
    {
      "cell_type": "code",
      "source": [
        "# Obter informações do usuário\n",
        "idade = int(input(\"Digite sua idade: \"))\n",
        "categoria = input(\"Digite sua categoria (estudante, aposentado, etc.): \")\n",
        "dia_semana = input(\"Digite o dia da semana (segunda, terça, etc.): \")\n",
        "\n",
        "# Definir variável de desconto padrão\n",
        "desconto = 0\n",
        "\n",
        "# Verificar se a pessoa tem direito a desconto\n",
        "if idade >= 60:\n",
        "    desconto = 0.3\n",
        "elif categoria == \"estudante\" and (dia_semana == \"segunda\" or dia_semana == \"terça\"):\n",
        "    desconto = 0.2\n",
        "elif categoria == \"aposentado\":\n",
        "    desconto = 0.15\n",
        "elif categoria == \"professor\" and dia_semana == \"quarta\":\n",
        "    desconto = 0.25\n",
        "\n",
        "# Imprimir resultado\n",
        "if desconto > 0:\n",
        "    print(\"Você tem direito a um desconto de {:.0%}.\".format(desconto))\n",
        "else:\n",
        "    print(\"Você não tem direito a nenhum desconto.\")"
      ],
      "metadata": {
        "colab": {
          "base_uri": "https://localhost:8080/"
        },
        "id": "pZkXWGh4OjCx",
        "outputId": "5987a491-5fef-4df5-f4ca-fb6c743d7124"
      },
      "execution_count": 6,
      "outputs": [
        {
          "output_type": "stream",
          "name": "stdout",
          "text": [
            "Digite sua idade: 19\n",
            "Digite sua categoria (estudante, aposentado, etc.): estudante\n",
            "Digite o dia da semana (segunda, terça, etc.): terça\n",
            "Você tem direito a um desconto de 20%.\n"
          ]
        }
      ]
    }
  ]
}