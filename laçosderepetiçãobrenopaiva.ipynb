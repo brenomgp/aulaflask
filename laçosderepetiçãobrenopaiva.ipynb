{
  "nbformat": 4,
  "nbformat_minor": 0,
  "metadata": {
    "colab": {
      "provenance": [],
      "authorship_tag": "ABX9TyNKNmS7F3v/Ma4v31DE+Uv4",
      "include_colab_link": true
    },
    "kernelspec": {
      "name": "python3",
      "display_name": "Python 3"
    },
    "language_info": {
      "name": "python"
    }
  },
  "cells": [
    {
      "cell_type": "markdown",
      "metadata": {
        "id": "view-in-github",
        "colab_type": "text"
      },
      "source": [
        "<a href=\"https://colab.research.google.com/github/brenomgp/aulaflask/blob/main/la%C3%A7osderepeti%C3%A7%C3%A3obrenopaiva.ipynb\" target=\"_parent\"><img src=\"https://colab.research.google.com/assets/colab-badge.svg\" alt=\"Open In Colab\"/></a>"
      ]
    },
    {
      "cell_type": "code",
      "execution_count": 2,
      "metadata": {
        "colab": {
          "base_uri": "https://localhost:8080/"
        },
        "id": "trlynb6lYZSp",
        "outputId": "1821f16d-9c53-4f5e-8f3c-3a0ab110860c"
      },
      "outputs": [
        {
          "output_type": "stream",
          "name": "stdout",
          "text": [
            "Digite o primeiro número: 3\n",
            "Digite o último número: 5\n",
            "3\n",
            "4\n",
            "5\n"
          ]
        }
      ],
      "source": [
        "#Ex 0)\n",
        "primeiro = int(input(\"Digite o primeiro número: \"))\n",
        "ultimo = int(input(\"Digite o último número: \"))\n",
        "\n",
        "if ultimo < primeiro:\n",
        "    for i in range(primeiro, ultimo-1, -1):\n",
        "        print(i)\n",
        "else:\n",
        "    for i in range(primeiro, ultimo+1):\n",
        "        print(i)"
      ]
    },
    {
      "cell_type": "markdown",
      "source": [
        "Digite o primeiro número: 3\n",
        "Digite o último número: 5\n",
        "3\n",
        "4\n",
        "5"
      ],
      "metadata": {
        "id": "_Jj7vXArb11U"
      }
    },
    {
      "cell_type": "code",
      "source": [
        "#Ex 1)\n",
        "valor = int(input(\"Digite um valor entre 1 e 10: \"))\n",
        "while valor < 1 or valor > 10:\n",
        "    valor = int(input(\"Valor inválido. Digite um valor entre 1 e 10: \"))\n",
        "\n",
        "print(f\"Tabuada do {valor}:\")\n",
        "for i in range(1, 11):\n",
        "    resultado = valor * i\n",
        "    print(f\"{valor} x {i} = {resultado}\")"
      ],
      "metadata": {
        "colab": {
          "base_uri": "https://localhost:8080/"
        },
        "id": "1l4tvT7oa2rs",
        "outputId": "2af6d339-5ee1-47cf-a80e-1e3b8cae7d29"
      },
      "execution_count": 4,
      "outputs": [
        {
          "output_type": "stream",
          "name": "stdout",
          "text": [
            "Digite um valor entre 1 e 10: 8\n",
            "Tabuada do 8:\n",
            "8 x 1 = 8\n",
            "8 x 2 = 16\n",
            "8 x 3 = 24\n",
            "8 x 4 = 32\n",
            "8 x 5 = 40\n",
            "8 x 6 = 48\n",
            "8 x 7 = 56\n",
            "8 x 8 = 64\n",
            "8 x 9 = 72\n",
            "8 x 10 = 80\n"
          ]
        }
      ]
    },
    {
      "cell_type": "markdown",
      "source": [
        "Digite um valor entre 1 e 10: 8\n",
        "Tabuada do 8:\n",
        "8 x 1 = 8\n",
        "8 x 2 = 16\n",
        "8 x 3 = 24\n",
        "8 x 4 = 32\n",
        "8 x 5 = 40\n",
        "8 x 6 = 48\n",
        "8 x 7 = 56\n",
        "8 x 8 = 64\n",
        "8 x 9 = 72\n",
        "8 x 10 = 80"
      ],
      "metadata": {
        "id": "JONCCksqbyP1"
      }
    },
    {
      "cell_type": "code",
      "source": [
        "#Ex 2)\n",
        "import random\n",
        "\n",
        "numero_secreto = random.randint(1, 100)\n",
        "tentativas = 0\n",
        "\n",
        "while True:\n",
        "    tentativa = int(input(\"Digite um número entre 1 e 100: \"))\n",
        "    tentativas += 1\n",
        "\n",
        "    if tentativa == numero_secreto:\n",
        "        print(\"Parabéns, você acertou!\")\n",
        "        print(\"Número de tentativas:\", tentativas)\n",
        "        break\n",
        "    elif tentativa < numero_secreto:\n",
        "        print(\"Tente um número maior.\")\n",
        "    else:\n",
        "        print(\"Tente um número menor.\")"
      ],
      "metadata": {
        "colab": {
          "base_uri": "https://localhost:8080/"
        },
        "id": "da-I_nKbcZ2V",
        "outputId": "0f7d6bfe-0b52-4fc0-e546-720143f8ad8c"
      },
      "execution_count": 6,
      "outputs": [
        {
          "output_type": "stream",
          "name": "stdout",
          "text": [
            "Digite um número entre 1 e 100: 50\n",
            "Tente um número menor.\n",
            "Digite um número entre 1 e 100: 25\n",
            "Tente um número menor.\n",
            "Digite um número entre 1 e 100: 12\n",
            "Tente um número menor.\n",
            "Digite um número entre 1 e 100: 6\n",
            "Tente um número maior.\n",
            "Digite um número entre 1 e 100: 9\n",
            "Tente um número menor.\n",
            "Digite um número entre 1 e 100: 7\n",
            "Tente um número maior.\n",
            "Digite um número entre 1 e 100: 8\n",
            "Parabéns, você acertou!\n",
            "Número de tentativas: 7\n"
          ]
        }
      ]
    },
    {
      "cell_type": "code",
      "source": [
        "#ex 3)\n",
        "soma = 0\n",
        "while True:\n",
        "    num = int(input(\"Digite um número inteiro: \"))\n",
        "    if num < 0:\n",
        "        break\n",
        "    soma += num\n",
        "\n",
        "print(\"A soma dos números digitados é:\", soma)"
      ],
      "metadata": {
        "colab": {
          "base_uri": "https://localhost:8080/"
        },
        "id": "48bG_f5zdp18",
        "outputId": "b5dc568c-4dfa-47ff-8091-6147066db404"
      },
      "execution_count": 8,
      "outputs": [
        {
          "output_type": "stream",
          "name": "stdout",
          "text": [
            "Digite um número inteiro: -5\n",
            "A soma dos números digitados é: 0\n"
          ]
        }
      ]
    },
    {
      "cell_type": "code",
      "source": [
        "#ex 4)\n",
        "import random\n",
        "\n",
        "num_jogadas = int(input(\"Quantas vezes você quer jogar a moeda? \"))\n",
        "\n",
        "num_caras = 0\n",
        "num_coroas = 0\n",
        "\n",
        "for i in range(num_jogadas):\n",
        "    resultado = random.randint(0, 1)\n",
        "    if resultado == 0:\n",
        "        num_caras += 1\n",
        "        print(\"Cara\")\n",
        "    else:\n",
        "        num_coroas += 1\n",
        "        print(\"Coroa\")\n",
        "\n",
        "print(\"Número total de caras: \", num_caras)\n",
        "print(\"Número total de coroas: \", num_coroas)"
      ],
      "metadata": {
        "colab": {
          "base_uri": "https://localhost:8080/"
        },
        "id": "KKEOxYuAfan0",
        "outputId": "dd671b19-af8d-4e42-8682-a574028093b3"
      },
      "execution_count": 10,
      "outputs": [
        {
          "output_type": "stream",
          "name": "stdout",
          "text": [
            "Quantas vezes você quer jogar a moeda? 3\n",
            "Cara\n",
            "Coroa\n",
            "Cara\n",
            "Número total de caras:  2\n",
            "Número total de coroas:  1\n"
          ]
        }
      ]
    },
    {
      "cell_type": "code",
      "source": [
        "#ex 5)\n",
        "votos_jair = 0\n",
        "votos_carlos = 0\n",
        "votos_neves = 0\n",
        "votos_nulo = 0\n",
        "votos_branco = 0\n",
        "\n",
        "\n",
        "while True:\n",
        "    \n",
        "    print(\"As opcoes sao:\")\n",
        "    print(\"1. Candidato Jair Rodrigues\")\n",
        "    print(\"2. Candidato Carlos Luz\")\n",
        "    print(\"3. Candidato Neves Rocha\")\n",
        "    print(\"4. Nulo\")\n",
        "    print(\"5. Branco\")\n",
        "    print(\"Entre com o seu voto:\")\n",
        "\n",
        "    voto = int(input())\n",
        "\n",
        "    \n",
        "    if voto not in [1, 2, 3, 4, 5, 6]:\n",
        "        print(\"Número de voto inválido. Por favor, entre com um número válido (1 a 6).\")\n",
        "        continue\n",
        "\n",
        "    if voto == 6:\n",
        "        \n",
        "        total_votos = votos_jair + votos_carlos + votos_neves + votos_nulo + votos_branco\n",
        "        perc_nulo = (votos_nulo / total_votos) * 100 if total_votos > 0 else 0\n",
        "        perc_branco = (votos_branco / total_votos) * 100 if total_votos > 0 else 0\n",
        "\n",
        "        print(\"Número de votos de cada candidato:\")\n",
        "        print(\"Candidato Jair Rodrigues: \", votos_jair)\n",
        "        print(\"Candidato Carlos Luz: \", votos_carlos)\n",
        "        print(\"Candidato Neves Rocha: \", votos_neves)\n",
        "        print(\"Número de votos nulos: \", votos_nulo)\n",
        "        print(\"Número de votos brancos: \", votos_branco)\n",
        "        print(\"Porcentagem de votos nulos: \", perc_nulo, \"%\")\n",
        "        print(\"Porcentagem de votos brancos: \", perc_branco, \"%\")\n",
        "\n",
        "        if votos_jair > votos_carlos and votos_jair > votos_neves:\n",
        "            print(\"Candidato Jair Rodrigues é o vencedor.\")\n",
        "        elif votos_carlos > votos_jair and votos_carlos > votos_neves:\n",
        "            print(\"Candidato Carlos Luz é o vencedor.\")\n",
        "        elif votos_neves > votos_jair and votos_neves > votos_carlos:\n",
        "            print(\"Candidato Neves Rocha é o vencedor.\")\n",
        "        else:\n",
        "            print(\"Houve empate entre os candidatos.\")\n",
        "\n",
        "        break\n",
        "\n",
        "    if voto == 4:\n",
        "        votos_nulo += 1"
      ],
      "metadata": {
        "colab": {
          "base_uri": "https://localhost:8080/",
          "height": 373
        },
        "id": "3h_MgIzWft-8",
        "outputId": "3acdaaf7-837c-4709-addd-c358fc5b05cf"
      },
      "execution_count": 13,
      "outputs": [
        {
          "name": "stdout",
          "output_type": "stream",
          "text": [
            "As opcoes sao:\n",
            "1. Candidato Jair Rodrigues\n",
            "2. Candidato Carlos Luz\n",
            "3. Candidato Neves Rocha\n",
            "4. Nulo\n",
            "5. Branco\n",
            "Entre com o seu voto:\n",
            "Nulo\n"
          ]
        },
        {
          "output_type": "error",
          "ename": "ValueError",
          "evalue": "ignored",
          "traceback": [
            "\u001b[0;31m---------------------------------------------------------------------------\u001b[0m",
            "\u001b[0;31mValueError\u001b[0m                                Traceback (most recent call last)",
            "\u001b[0;32m<ipython-input-13-0ab1751666d6>\u001b[0m in \u001b[0;36m<module>\u001b[0;34m\u001b[0m\n\u001b[1;32m     17\u001b[0m     \u001b[0mprint\u001b[0m\u001b[0;34m(\u001b[0m\u001b[0;34m\"Entre com o seu voto:\"\u001b[0m\u001b[0;34m)\u001b[0m\u001b[0;34m\u001b[0m\u001b[0;34m\u001b[0m\u001b[0m\n\u001b[1;32m     18\u001b[0m \u001b[0;34m\u001b[0m\u001b[0m\n\u001b[0;32m---> 19\u001b[0;31m     \u001b[0mvoto\u001b[0m \u001b[0;34m=\u001b[0m \u001b[0mint\u001b[0m\u001b[0;34m(\u001b[0m\u001b[0minput\u001b[0m\u001b[0;34m(\u001b[0m\u001b[0;34m)\u001b[0m\u001b[0;34m)\u001b[0m\u001b[0;34m\u001b[0m\u001b[0;34m\u001b[0m\u001b[0m\n\u001b[0m\u001b[1;32m     20\u001b[0m \u001b[0;34m\u001b[0m\u001b[0m\n\u001b[1;32m     21\u001b[0m \u001b[0;34m\u001b[0m\u001b[0m\n",
            "\u001b[0;31mValueError\u001b[0m: invalid literal for int() with base 10: 'Nulo'"
          ]
        }
      ]
    }
  ]
}