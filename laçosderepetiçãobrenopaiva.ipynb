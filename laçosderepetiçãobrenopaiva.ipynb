{
  "nbformat": 4,
  "nbformat_minor": 0,
  "metadata": {
    "colab": {
      "provenance": [],
      "authorship_tag": "ABX9TyMWBdk6T9cDh6zVuIc5F/1U",
      "include_colab_link": true
    },
    "kernelspec": {
      "name": "python3",
      "display_name": "Python 3"
    },
    "language_info": {
      "name": "python"
    }
  },
  "cells": [
    {
      "cell_type": "markdown",
      "metadata": {
        "id": "view-in-github",
        "colab_type": "text"
      },
      "source": [
        "<a href=\"https://colab.research.google.com/github/brenomgp/aulaflask/blob/main/la%C3%A7osderepeti%C3%A7%C3%A3obrenopaiva.ipynb\" target=\"_parent\"><img src=\"https://colab.research.google.com/assets/colab-badge.svg\" alt=\"Open In Colab\"/></a>"
      ]
    },
    {
      "cell_type": "code",
      "execution_count": 2,
      "metadata": {
        "colab": {
          "base_uri": "https://localhost:8080/"
        },
        "id": "trlynb6lYZSp",
        "outputId": "1821f16d-9c53-4f5e-8f3c-3a0ab110860c"
      },
      "outputs": [
        {
          "output_type": "stream",
          "name": "stdout",
          "text": [
            "Digite o primeiro número: 3\n",
            "Digite o último número: 5\n",
            "3\n",
            "4\n",
            "5\n"
          ]
        }
      ],
      "source": [
        "#Ex 0)\n",
        "primeiro = int(input(\"Digite o primeiro número: \"))\n",
        "ultimo = int(input(\"Digite o último número: \"))\n",
        "\n",
        "if ultimo < primeiro:\n",
        "    for i in range(primeiro, ultimo-1, -1):\n",
        "        print(i)\n",
        "else:\n",
        "    for i in range(primeiro, ultimo+1):\n",
        "        print(i)"
      ]
    },
    {
      "cell_type": "markdown",
      "source": [
        "Digite o primeiro número: 3\n",
        "Digite o último número: 5\n",
        "3\n",
        "4\n",
        "5"
      ],
      "metadata": {
        "id": "_Jj7vXArb11U"
      }
    },
    {
      "cell_type": "code",
      "source": [
        "#Ex 1)\n",
        "valor = int(input(\"Digite um valor entre 1 e 10: \"))\n",
        "while valor < 1 or valor > 10:\n",
        "    valor = int(input(\"Valor inválido. Digite um valor entre 1 e 10: \"))\n",
        "\n",
        "print(f\"Tabuada do {valor}:\")\n",
        "for i in range(1, 11):\n",
        "    resultado = valor * i\n",
        "    print(f\"{valor} x {i} = {resultado}\")"
      ],
      "metadata": {
        "colab": {
          "base_uri": "https://localhost:8080/"
        },
        "id": "1l4tvT7oa2rs",
        "outputId": "2af6d339-5ee1-47cf-a80e-1e3b8cae7d29"
      },
      "execution_count": 4,
      "outputs": [
        {
          "output_type": "stream",
          "name": "stdout",
          "text": [
            "Digite um valor entre 1 e 10: 8\n",
            "Tabuada do 8:\n",
            "8 x 1 = 8\n",
            "8 x 2 = 16\n",
            "8 x 3 = 24\n",
            "8 x 4 = 32\n",
            "8 x 5 = 40\n",
            "8 x 6 = 48\n",
            "8 x 7 = 56\n",
            "8 x 8 = 64\n",
            "8 x 9 = 72\n",
            "8 x 10 = 80\n"
          ]
        }
      ]
    },
    {
      "cell_type": "markdown",
      "source": [
        "Digite um valor entre 1 e 10: 8\n",
        "Tabuada do 8:\n",
        "8 x 1 = 8\n",
        "8 x 2 = 16\n",
        "8 x 3 = 24\n",
        "8 x 4 = 32\n",
        "8 x 5 = 40\n",
        "8 x 6 = 48\n",
        "8 x 7 = 56\n",
        "8 x 8 = 64\n",
        "8 x 9 = 72\n",
        "8 x 10 = 80"
      ],
      "metadata": {
        "id": "JONCCksqbyP1"
      }
    }
  ]
}