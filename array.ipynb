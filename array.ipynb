{
  "nbformat": 4,
  "nbformat_minor": 0,
  "metadata": {
    "colab": {
      "provenance": [],
      "include_colab_link": true
    },
    "kernelspec": {
      "name": "python3",
      "display_name": "Python 3"
    },
    "language_info": {
      "name": "python"
    }
  },
  "cells": [
    {
      "cell_type": "markdown",
      "metadata": {
        "id": "view-in-github",
        "colab_type": "text"
      },
      "source": [
        "<a href=\"https://colab.research.google.com/github/brenomgp/aulaflask/blob/main/array.ipynb\" target=\"_parent\"><img src=\"https://colab.research.google.com/assets/colab-badge.svg\" alt=\"Open In Colab\"/></a>"
      ]
    },
    {
      "cell_type": "markdown",
      "source": [
        "O QUE É UM ARRAY?\n",
        "tipos de array : ndarrays -> significam arrays com any dimensões \n",
        "1-D array -> possui apenas uma dimensão. sera comumente chamado de vector ou vetor\n",
        "2-D array -> possui 2 dimensões. sera comumente chamado matriz ou matrix\n",
        "3-D array -> possui 3 ou mais dimensões. sera comumente chamado de tensor "
      ],
      "metadata": {
        "id": "FSAQNNdvI0yO"
      }
    },
    {
      "cell_type": "code",
      "execution_count": null,
      "metadata": {
        "id": "UkL2jfjmHk9o"
      },
      "outputs": [],
      "source": [
        "import numpy as np"
      ]
    },
    {
      "cell_type": "markdown",
      "source": [
        "np.array\n"
      ],
      "metadata": {
        "id": "A_YmtPMSIDal"
      }
    },
    {
      "cell_type": "code",
      "source": [
        ")a = np.array([9, 8, 7, 6, 5, 4])\n",
        "print(a)\n",
        "print(type(a)\n"
      ],
      "metadata": {
        "colab": {
          "base_uri": "https://localhost:8080/"
        },
        "id": "fiGoXo7iHv2m",
        "outputId": "6d77aabf-b1c9-47f6-cb7f-5bde429faa1c"
      },
      "execution_count": null,
      "outputs": [
        {
          "output_type": "stream",
          "name": "stdout",
          "text": [
            "[9 8 7 6 5 4]\n",
            "<class 'numpy.ndarray'>\n"
          ]
        }
      ]
    },
    {
      "cell_type": "markdown",
      "source": [
        "np.zeros"
      ],
      "metadata": {
        "id": "l5Vc4UGVIIYV"
      }
    },
    {
      "cell_type": "code",
      "source": [
        "zero_array = np.zeros(shape = (4,3,5))\n",
        "print(zero_array)"
      ],
      "metadata": {
        "colab": {
          "base_uri": "https://localhost:8080/"
        },
        "id": "35Kiyb3xIFJV",
        "outputId": "e32299c9-1816-46c2-cf72-52a0053a6a90"
      },
      "execution_count": null,
      "outputs": [
        {
          "output_type": "stream",
          "name": "stdout",
          "text": [
            "[[[0. 0. 0. 0. 0.]\n",
            "  [0. 0. 0. 0. 0.]\n",
            "  [0. 0. 0. 0. 0.]]\n",
            "\n",
            " [[0. 0. 0. 0. 0.]\n",
            "  [0. 0. 0. 0. 0.]\n",
            "  [0. 0. 0. 0. 0.]]\n",
            "\n",
            " [[0. 0. 0. 0. 0.]\n",
            "  [0. 0. 0. 0. 0.]\n",
            "  [0. 0. 0. 0. 0.]]\n",
            "\n",
            " [[0. 0. 0. 0. 0.]\n",
            "  [0. 0. 0. 0. 0.]\n",
            "  [0. 0. 0. 0. 0.]]]\n"
          ]
        }
      ]
    },
    {
      "cell_type": "markdown",
      "source": [
        "np.ones"
      ],
      "metadata": {
        "id": "zr8fpsH6IZiI"
      }
    },
    {
      "cell_type": "code",
      "source": [
        "um_array = np.ones(5)\n",
        "print(um_array)"
      ],
      "metadata": {
        "colab": {
          "base_uri": "https://localhost:8080/"
        },
        "id": "HKqWnbc1IZyV",
        "outputId": "6732b387-cfeb-4c54-9a22-77e7d122b8a5"
      },
      "execution_count": null,
      "outputs": [
        {
          "output_type": "stream",
          "name": "stdout",
          "text": [
            "[1. 1. 1. 1. 1.]\n"
          ]
        }
      ]
    },
    {
      "cell_type": "code",
      "source": [
        "um_array = np.ones((2,3))\n",
        "print(um_array)"
      ],
      "metadata": {
        "colab": {
          "base_uri": "https://localhost:8080/"
        },
        "id": "mlA7cL5WIiaI",
        "outputId": "071c5a89-ebc0-4994-fe26-c6ef65391244"
      },
      "execution_count": null,
      "outputs": [
        {
          "output_type": "stream",
          "name": "stdout",
          "text": [
            "[[1. 1. 1.]\n",
            " [1. 1. 1.]]\n"
          ]
        }
      ]
    },
    {
      "cell_type": "code",
      "source": [
        "vazio_array = np.empty(1)\n",
        "print(vazio_array)"
      ],
      "metadata": {
        "colab": {
          "base_uri": "https://localhost:8080/"
        },
        "id": "n2dpABUUTAOo",
        "outputId": "b897ac1e-4664-4fca-d14e-772831c308e1"
      },
      "execution_count": null,
      "outputs": [
        {
          "output_type": "stream",
          "name": "stdout",
          "text": [
            "[1.]\n"
          ]
        }
      ]
    },
    {
      "cell_type": "code",
      "source": [
        "zero_dez = np.arange(10)\n",
        "print(zero_dez)\n",
        "pula_dois = np.arange(3,15,2)\n",
        "print(pula_dois)"
      ],
      "metadata": {
        "colab": {
          "base_uri": "https://localhost:8080/"
        },
        "id": "khoWBgavS_d_",
        "outputId": "9a0bbbae-041f-428d-f0f0-ccc01ee478ad"
      },
      "execution_count": null,
      "outputs": [
        {
          "output_type": "stream",
          "name": "stdout",
          "text": [
            "[0 1 2 3 4 5 6 7 8 9]\n",
            "[ 3  5  7  9 11 13]\n"
          ]
        }
      ]
    },
    {
      "cell_type": "code",
      "source": [
        "array_linear = np.linspace(0, 200, num = 20, endpoint = False )\n",
        "print(array_linear)\n"
      ],
      "metadata": {
        "colab": {
          "base_uri": "https://localhost:8080/"
        },
        "id": "gEW_aEM1Vpv3",
        "outputId": "6ba3c038-278e-4564-a030-3a0ac43e0b68"
      },
      "execution_count": null,
      "outputs": [
        {
          "output_type": "stream",
          "name": "stdout",
          "text": [
            "[  0.  10.  20.  30.  40.  50.  60.  70.  80.  90. 100. 110. 120. 130.\n",
            " 140. 150. 160. 170. 180. 190.]\n"
          ]
        }
      ]
    },
    {
      "cell_type": "code",
      "source": [
        "array_linear = np.linspace(0, 200, num = 20, endpoint = True )\n",
        "print(array_linear)\n",
        "\n"
      ],
      "metadata": {
        "colab": {
          "base_uri": "https://localhost:8080/"
        },
        "id": "A0Y1vl8KWEaI",
        "outputId": "60bb7d43-c152-4039-b325-ddf232951264"
      },
      "execution_count": null,
      "outputs": [
        {
          "output_type": "stream",
          "name": "stdout",
          "text": [
            "[  0.          10.52631579  21.05263158  31.57894737  42.10526316\n",
            "  52.63157895  63.15789474  73.68421053  84.21052632  94.73684211\n",
            " 105.26315789 115.78947368 126.31578947 136.84210526 147.36842105\n",
            " 157.89473684 168.42105263 178.94736842 189.47368421 200.        ]\n"
          ]
        }
      ]
    },
    {
      "cell_type": "code",
      "source": [
        "array_linear = np.linspace(0, 200, num = 20, endpoint = False, retstep = True )\n",
        "print(array_linear)\n"
      ],
      "metadata": {
        "colab": {
          "base_uri": "https://localhost:8080/"
        },
        "id": "r4r1UeAMWM4e",
        "outputId": "b7b3b333-4bae-4999-a1d4-e2a86206d811"
      },
      "execution_count": null,
      "outputs": [
        {
          "output_type": "stream",
          "name": "stdout",
          "text": [
            "(array([  0.,  10.,  20.,  30.,  40.,  50.,  60.,  70.,  80.,  90., 100.,\n",
            "       110., 120., 130., 140., 150., 160., 170., 180., 190.]), 10.0)\n"
          ]
        }
      ]
    },
    {
      "cell_type": "code",
      "source": [
        "zero_array = np.zeros(shape = (4,5,6))\n",
        "print(zero_array)\n"
      ],
      "metadata": {
        "colab": {
          "base_uri": "https://localhost:8080/"
        },
        "id": "PM2fyQj0W_i4",
        "outputId": "38099d24-8ca2-4ef4-a713-1c9f67cc7235"
      },
      "execution_count": null,
      "outputs": [
        {
          "output_type": "stream",
          "name": "stdout",
          "text": [
            "[[[0. 0. 0. 0. 0. 0.]\n",
            "  [0. 0. 0. 0. 0. 0.]\n",
            "  [0. 0. 0. 0. 0. 0.]\n",
            "  [0. 0. 0. 0. 0. 0.]\n",
            "  [0. 0. 0. 0. 0. 0.]]\n",
            "\n",
            " [[0. 0. 0. 0. 0. 0.]\n",
            "  [0. 0. 0. 0. 0. 0.]\n",
            "  [0. 0. 0. 0. 0. 0.]\n",
            "  [0. 0. 0. 0. 0. 0.]\n",
            "  [0. 0. 0. 0. 0. 0.]]\n",
            "\n",
            " [[0. 0. 0. 0. 0. 0.]\n",
            "  [0. 0. 0. 0. 0. 0.]\n",
            "  [0. 0. 0. 0. 0. 0.]\n",
            "  [0. 0. 0. 0. 0. 0.]\n",
            "  [0. 0. 0. 0. 0. 0.]]\n",
            "\n",
            " [[0. 0. 0. 0. 0. 0.]\n",
            "  [0. 0. 0. 0. 0. 0.]\n",
            "  [0. 0. 0. 0. 0. 0.]\n",
            "  [0. 0. 0. 0. 0. 0.]\n",
            "  [0. 0. 0. 0. 0. 0.]]]\n"
          ]
        }
      ]
    },
    {
      "cell_type": "code",
      "source": [
        "print(zero_array.shape)\n",
        "print(zero_array.size)\n",
        "print(zero_array.ndim)"
      ],
      "metadata": {
        "colab": {
          "base_uri": "https://localhost:8080/"
        },
        "id": "o3R_ERW6XKY3",
        "outputId": "c0fad930-e3b8-45e1-8d36-5ccf89dcc04e"
      },
      "execution_count": null,
      "outputs": [
        {
          "output_type": "stream",
          "name": "stdout",
          "text": [
            "(4, 5, 6)\n",
            "120\n",
            "3\n"
          ]
        }
      ]
    },
    {
      "cell_type": "code",
      "source": [],
      "metadata": {
        "id": "yCwLMbF9XKfu"
      },
      "execution_count": null,
      "outputs": []
    }
  ]
}